{
 "cells": [
  {
   "cell_type": "code",
   "execution_count": 1,
   "id": "5c658d8d-e841-467c-8536-c333207c92aa",
   "metadata": {},
   "outputs": [
    {
     "name": "stdout",
     "output_type": "stream",
     "text": [
      "      ProjectID                                    RequirementText _class_\n",
      "0             1  The system shall refresh the display every 60 ...      PE\n",
      "1             1  The application shall match the color of the s...      LF\n",
      "2             1  If projected  the data must be readable.  On a...      US\n",
      "3             1  The product shall be available during normal b...       A\n",
      "4             1  If projected  the data must be understandable....      US\n",
      "...         ...                                                ...     ...\n",
      "2052          9  The database may trade off fidelity through ca...      FT\n",
      "2053          9  The API shall have master topology replicating...      FT\n",
      "2054          9  The system must parse, filter, transform and s...      FT\n",
      "2055          9  The application shall employ real-user monitor...      FT\n",
      "2056          9  The software should apply graceful degradation...      FT\n",
      "\n",
      "[2057 rows x 3 columns]\n"
     ]
    }
   ],
   "source": [
    "import pandas as pd\n",
    "import arff as liacarff\n",
    "\n",
    "# 加载 ARFF 文件\n",
    "with open('PROMISE_DOSSPRE_OLD_3.arff', 'r') as f:\n",
    "    data_dict = liacarff.load(f)\n",
    "\n",
    "# 提取数据\n",
    "data = data_dict['data']\n",
    "\n",
    "# 转换为 DataFrame\n",
    "df = pd.DataFrame(data, columns=[attr[0] for attr in data_dict['attributes']])\n",
    "df['ProjectID'] = df['ProjectID'].astype(int)  # 将 ProjectID 列转换为整数类型\n",
    "\n",
    "# 显示 DataFrame\n",
    "print(df)\n"
   ]
  },
  {
   "cell_type": "code",
   "execution_count": 2,
   "id": "59f1598c-1b5e-42a4-bf9b-93507a98a49d",
   "metadata": {},
   "outputs": [
    {
     "name": "stdout",
     "output_type": "stream",
     "text": [
      "   ProjectID                                    RequirementText _class_\n",
      "0          1  the system shall refresh the display every 60 ...      PE\n",
      "1          1  the application shall match the color of the s...      LF\n",
      "2          1  if projected  the data must be readable.  on a...      US\n",
      "3          1  the product shall be available during normal b...       A\n",
      "4          1  if projected  the data must be understandable....      US\n"
     ]
    },
    {
     "name": "stderr",
     "output_type": "stream",
     "text": [
      "[nltk_data] Downloading package stopwords to /home/li/nltk_data...\n",
      "[nltk_data]   Package stopwords is already up-to-date!\n",
      "[nltk_data] Downloading package punkt to /home/li/nltk_data...\n",
      "[nltk_data]   Package punkt is already up-to-date!\n",
      "[nltk_data] Downloading package wordnet to /home/li/nltk_data...\n",
      "[nltk_data]   Package wordnet is already up-to-date!\n"
     ]
    }
   ],
   "source": [
    "# DATA PREPROCESSING\n",
    "import pandas as pd\n",
    "import nltk\n",
    "from nltk.corpus import stopwords\n",
    "from nltk.tokenize import word_tokenize\n",
    "from nltk.stem import PorterStemmer\n",
    "from nltk.stem import WordNetLemmatizer\n",
    "import re\n",
    "import string\n",
    "\n",
    "# 下载NLTK的停用词和词性标注器数据\n",
    "nltk.download('stopwords')\n",
    "nltk.download('punkt')\n",
    "nltk.download('wordnet')\n",
    "\n",
    "# lower\n",
    "df['RequirementText'] = df['RequirementText'].str.lower()\n",
    "\n",
    "# # Remove punctuation, leading and trailing spaces\n",
    "# df['RequirementText'] = df['RequirementText'].apply(lambda x: re.sub(f\"[{re.escape(string.punctuation)}]\", \"\", x.strip()))\n",
    "\n",
    "# # 分词\n",
    "# df['RequirementText'] = df['RequirementText'].apply(word_tokenize)\n",
    "\n",
    "# # stopwords\n",
    "# stop_words = set(stopwords.words('english'))\n",
    "# df['RequirementText'] = df['RequirementText'].apply(lambda x: [word for word in x if word not in stop_words])\n",
    "\n",
    "# # stemming\n",
    "# # stemmer = PorterStemmer()\n",
    "# # df['RequirementText'] = df['RequirementText'].apply(lambda x: [stemmer.stem(word) for word in x])\n",
    "\n",
    "# # lemmatization\n",
    "# lemmatizer = WordNetLemmatizer()\n",
    "# df['RequirementText'] = df['RequirementText'].apply(lambda x: [lemmatizer.lemmatize(word) for word in x])\n",
    "\n",
    "# # 合并词语为字符串\n",
    "# df['RequirementText'] = df['RequirementText'].apply(lambda x: ' '.join(x))\n",
    "\n",
    "# # Replace multiple spaces with a single space\n",
    "# df['RequirementText'] = df['RequirementText'].apply(lambda x: re.sub(' +', ' ', x))\n",
    "\n",
    "# 移除整个列中每个字符串首尾的全部空格\n",
    "df['RequirementText'] = df['RequirementText'].str.strip()\n",
    "\n",
    "# 查看处理后的数据集\n",
    "print(df.head())"
   ]
  },
  {
   "cell_type": "code",
   "execution_count": 3,
   "id": "2df99007-ddfa-4b3a-99b6-e0f687b55ad2",
   "metadata": {},
   "outputs": [],
   "source": [
    "import pandas as pd\n",
    "from sklearn.feature_extraction.text import CountVectorizer, TfidfVectorizer\n",
    "from sklearn.feature_selection import chi2\n",
    "from sklearn.model_selection import train_test_split\n",
    "from sklearn.naive_bayes import MultinomialNB\n",
    "from sklearn.metrics import accuracy_score, classification_report"
   ]
  },
  {
   "cell_type": "code",
   "execution_count": 4,
   "id": "34fa35b0-11b4-411c-9557-63f314c74e65",
   "metadata": {},
   "outputs": [
    {
     "name": "stdout",
     "output_type": "stream",
     "text": [
      "_class_\n",
      "F     444\n",
      "PE    250\n",
      "SE    235\n",
      "US    219\n",
      "LF    164\n",
      "MN    162\n",
      "O     131\n",
      "A     120\n",
      "SC     96\n",
      "L      86\n",
      "PO     78\n",
      "FT     72\n",
      "Name: count, dtype: int64\n"
     ]
    }
   ],
   "source": [
    "class_distribution = df['_class_'].value_counts()\n",
    "print(class_distribution)"
   ]
  },
  {
   "cell_type": "code",
   "execution_count": 5,
   "id": "e3d7057a-3221-46a4-95e6-66a2af495211",
   "metadata": {},
   "outputs": [],
   "source": [
    "from sklearn.model_selection import train_test_split\n",
    "\n",
    "class_mapping = {'F': 0, 'A': 1, 'L': 2, 'LF': 3, 'MN': 4, 'O': 5, 'PE': 6, 'SC': 7, 'SE': 8, 'US': 9, 'FT': 10, 'PO': 11}\n",
    "df['_class_'] = df['_class_'].map(class_mapping)\n",
    "\n",
    "y = df['_class_']\n",
    "X = df['RequirementText']\n",
    "                                  \n",
    "# 假设 X 是特征，y 是目标变量（类别标签）\n",
    "X_train, X_test, y_train, y_test = train_test_split(X, y, test_size=0.1, stratify=y)"
   ]
  },
  {
   "cell_type": "code",
   "execution_count": 6,
   "id": "d2cd9666-bb14-4ed2-8e2e-4298990b170f",
   "metadata": {},
   "outputs": [
    {
     "name": "stderr",
     "output_type": "stream",
     "text": [
      "Read 0M words\n",
      "Number of words:  4721\n",
      "Number of labels: 12\n",
      "Progress: 100.0% words/sec/thread: 1045513 lr:  0.000000 avg.loss:  2.217226 ETA:   0h 0m 0s\n"
     ]
    }
   ],
   "source": [
    "import fasttext\n",
    "\n",
    "# 将数据保存到文件中，以便 FastText 进行训练\n",
    "train_data_path = 'train_data.txt'\n",
    "test_data_path = 'test_data.txt'\n",
    "\n",
    "with open(train_data_path, 'w', encoding='utf-8') as f:\n",
    "    for text, label in zip(X_train, y_train):\n",
    "        f.write(f'__label__{label} {text}\\n')\n",
    "\n",
    "with open(test_data_path, 'w', encoding='utf-8') as f:\n",
    "    for text in X_test:\n",
    "        f.write(f'{text}\\n')\n",
    "\n",
    "# 训练 FastText 模型\n",
    "model = fasttext.train_supervised(input=train_data_path)\n",
    "\n",
    "# 在测试集上进行预测\n",
    "y_pred = [int(model.predict(text)[0][0][-1]) for text in X_test]"
   ]
  },
  {
   "cell_type": "code",
   "execution_count": 7,
   "id": "2e3b0b73-420d-401a-b066-8253372647bf",
   "metadata": {},
   "outputs": [
    {
     "name": "stdout",
     "output_type": "stream",
     "text": [
      "Accuracy (FastText): 0.2669902912621359\n",
      "Classification Report (FastText):\n",
      "               precision    recall  f1-score   support\n",
      "\n",
      "           0       0.25      1.00      0.40        44\n",
      "           1       0.00      0.00      0.00        12\n",
      "           2       0.50      0.11      0.18         9\n",
      "           3       0.38      0.62      0.48        16\n",
      "           4       0.00      0.00      0.00        16\n",
      "           5       0.00      0.00      0.00        13\n",
      "           6       0.00      0.00      0.00        25\n",
      "           7       0.00      0.00      0.00        10\n",
      "           8       0.00      0.00      0.00        24\n",
      "           9       0.00      0.00      0.00        22\n",
      "          10       0.00      0.00      0.00         7\n",
      "          11       0.00      0.00      0.00         8\n",
      "\n",
      "    accuracy                           0.27       206\n",
      "   macro avg       0.09      0.14      0.09       206\n",
      "weighted avg       0.10      0.27      0.13       206\n",
      "\n"
     ]
    },
    {
     "name": "stderr",
     "output_type": "stream",
     "text": [
      "/home/li/dsse/indi/indi/lib/python3.10/site-packages/sklearn/metrics/_classification.py:1471: UndefinedMetricWarning: Precision and F-score are ill-defined and being set to 0.0 in labels with no predicted samples. Use `zero_division` parameter to control this behavior.\n",
      "  _warn_prf(average, modifier, msg_start, len(result))\n",
      "/home/li/dsse/indi/indi/lib/python3.10/site-packages/sklearn/metrics/_classification.py:1471: UndefinedMetricWarning: Precision and F-score are ill-defined and being set to 0.0 in labels with no predicted samples. Use `zero_division` parameter to control this behavior.\n",
      "  _warn_prf(average, modifier, msg_start, len(result))\n",
      "/home/li/dsse/indi/indi/lib/python3.10/site-packages/sklearn/metrics/_classification.py:1471: UndefinedMetricWarning: Precision and F-score are ill-defined and being set to 0.0 in labels with no predicted samples. Use `zero_division` parameter to control this behavior.\n",
      "  _warn_prf(average, modifier, msg_start, len(result))\n"
     ]
    }
   ],
   "source": [
    "# 评估模型性能\n",
    "print(\"Accuracy (FastText):\", accuracy_score(y_test, y_pred))\n",
    "print(\"Classification Report (FastText):\\n\", classification_report(y_test, y_pred))"
   ]
  },
  {
   "cell_type": "code",
   "execution_count": null,
   "id": "3725d856-3f37-46cd-b342-30d8c6d7e408",
   "metadata": {},
   "outputs": [
    {
     "name": "stderr",
     "output_type": "stream",
     "text": [
      "Progress:   1.7% Trials:   11 Best score:       nan ETA:   0h 4m54s"
     ]
    }
   ],
   "source": [
    "model = fasttext.train_supervised(input=train_data_path, autotuneValidationFile=test_data_path)\n",
    "\n",
    "# 在测试集上进行预测\n",
    "y_pred = [int(model.predict(text)[0][0][-1]) for text in X_test]\n",
    "\n",
    "# 评估模型性能\n",
    "print(\"Accuracy (FastText):\", accuracy_score(y_test, y_pred))\n",
    "print(\"Classification Report (FastText):\\n\", classification_report(y_test, y_pred))"
   ]
  }
 ],
 "metadata": {
  "kernelspec": {
   "display_name": "Python 3 (ipykernel)",
   "language": "python",
   "name": "python3"
  },
  "language_info": {
   "codemirror_mode": {
    "name": "ipython",
    "version": 3
   },
   "file_extension": ".py",
   "mimetype": "text/x-python",
   "name": "python",
   "nbconvert_exporter": "python",
   "pygments_lexer": "ipython3",
   "version": "3.10.12"
  }
 },
 "nbformat": 4,
 "nbformat_minor": 5
}
