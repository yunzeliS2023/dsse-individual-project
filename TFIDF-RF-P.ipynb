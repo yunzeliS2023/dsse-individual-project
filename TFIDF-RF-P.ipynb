{
 "cells": [
  {
   "cell_type": "code",
   "execution_count": 1,
   "id": "5c658d8d-e841-467c-8536-c333207c92aa",
   "metadata": {},
   "outputs": [
    {
     "name": "stdout",
     "output_type": "stream",
     "text": [
      "     ProjectID                                    RequirementText _class_\n",
      "0            1  The system shall refresh the display every 60 ...      PE\n",
      "1            1  The application shall match the color of the s...      LF\n",
      "2            1  If projected  the data must be readable.  On a...      US\n",
      "3            1  The product shall be available during normal b...       A\n",
      "4            1  If projected  the data must be understandable....      US\n",
      "..         ...                                                ...     ...\n",
      "965         48  Registered User must be able to maintain his/h...       F\n",
      "966         48  The entire website must be user-friendly and e...      US\n",
      "967         48  The system shall support up to 10000 simultane...      PE\n",
      "968         48  The website must provide highest degree of sec...      SE\n",
      "969         49  The software application should be easily tran...      PO\n",
      "\n",
      "[970 rows x 3 columns]\n"
     ]
    }
   ],
   "source": [
    "import pandas as pd\n",
    "import arff as liacarff\n",
    "\n",
    "# 加载 ARFF 文件\n",
    "with open('PROMISE_exp.arff', 'r') as f:\n",
    "    data_dict = liacarff.load(f)\n",
    "\n",
    "# 提取数据\n",
    "data = data_dict['data']\n",
    "\n",
    "# 转换为 DataFrame\n",
    "df = pd.DataFrame(data, columns=[attr[0] for attr in data_dict['attributes']])\n",
    "df['ProjectID'] = df['ProjectID'].astype(int)  # 将 ProjectID 列转换为整数类型\n",
    "\n",
    "# 显示 DataFrame\n",
    "print(df)"
   ]
  },
  {
   "cell_type": "code",
   "execution_count": 2,
   "id": "59f1598c-1b5e-42a4-bf9b-93507a98a49d",
   "metadata": {},
   "outputs": [
    {
     "name": "stderr",
     "output_type": "stream",
     "text": [
      "[nltk_data] Downloading package stopwords to /home/li/nltk_data...\n",
      "[nltk_data]   Package stopwords is already up-to-date!\n",
      "[nltk_data] Downloading package punkt to /home/li/nltk_data...\n",
      "[nltk_data]   Package punkt is already up-to-date!\n",
      "[nltk_data] Downloading package wordnet to /home/li/nltk_data...\n",
      "[nltk_data]   Package wordnet is already up-to-date!\n"
     ]
    },
    {
     "name": "stdout",
     "output_type": "stream",
     "text": [
      "   ProjectID                                    RequirementText _class_\n",
      "0          1  the system shall refresh the display every 60 ...      PE\n",
      "1          1  the application shall match the color of the s...      LF\n",
      "2          1  if projected the data must be readable on a 10...      US\n",
      "3          1  the product shall be available during normal b...       A\n",
      "4          1  if projected the data must be understandable o...      US\n"
     ]
    }
   ],
   "source": [
    "# DATA PREPROCESSING\n",
    "import pandas as pd\n",
    "import nltk\n",
    "from nltk.corpus import stopwords\n",
    "from nltk.tokenize import word_tokenize\n",
    "from nltk.stem import PorterStemmer\n",
    "from nltk.stem import WordNetLemmatizer\n",
    "import re\n",
    "import string\n",
    "\n",
    "# 下载NLTK的停用词和词性标注器数据\n",
    "nltk.download('stopwords')\n",
    "nltk.download('punkt')\n",
    "nltk.download('wordnet')\n",
    "\n",
    "# lower\n",
    "df['RequirementText'] = df['RequirementText'].str.lower()\n",
    "\n",
    "# Remove punctuation, leading and trailing spaces\n",
    "df['RequirementText'] = df['RequirementText'].apply(lambda x: re.sub(f\"[{re.escape(string.punctuation)}]\", \"\", x.strip()))\n",
    "\n",
    "# 分词\n",
    "df['RequirementText'] = df['RequirementText'].apply(word_tokenize)\n",
    "\n",
    "# stopwords\n",
    "# stop_words = set(stopwords.words('english'))\n",
    "# df['RequirementText'] = df['RequirementText'].apply(lambda x: [word for word in x if word not in stop_words])\n",
    "\n",
    "# stemming\n",
    "# stemmer = PorterStemmer()\n",
    "# df['RequirementText'] = df['RequirementText'].apply(lambda x: [stemmer.stem(word) for word in x])\n",
    "\n",
    "# lemmatization\n",
    "lemmatizer = WordNetLemmatizer()\n",
    "df['RequirementText'] = df['RequirementText'].apply(lambda x: [lemmatizer.lemmatize(word) for word in x])\n",
    "\n",
    "# 合并词语为字符串\n",
    "df['RequirementText'] = df['RequirementText'].apply(lambda x: ' '.join(x))\n",
    "\n",
    "# Replace multiple spaces with a single space\n",
    "df['RequirementText'] = df['RequirementText'].apply(lambda x: re.sub(' +', ' ', x))\n",
    "\n",
    "# 移除整个列中每个字符串首尾的全部空格\n",
    "df['RequirementText'] = df['RequirementText'].str.strip()\n",
    "\n",
    "# 查看处理后的数据集\n",
    "print(df.head())"
   ]
  },
  {
   "cell_type": "code",
   "execution_count": 3,
   "id": "2df99007-ddfa-4b3a-99b6-e0f687b55ad2",
   "metadata": {},
   "outputs": [],
   "source": [
    "import pandas as pd\n",
    "from sklearn.feature_extraction.text import CountVectorizer, TfidfVectorizer\n",
    "from sklearn.feature_selection import chi2\n",
    "from sklearn.model_selection import train_test_split\n",
    "from sklearn.naive_bayes import MultinomialNB\n",
    "from sklearn.metrics import accuracy_score, classification_report"
   ]
  },
  {
   "cell_type": "code",
   "execution_count": 4,
   "id": "34fa35b0-11b4-411c-9557-63f314c74e65",
   "metadata": {},
   "outputs": [
    {
     "name": "stdout",
     "output_type": "stream",
     "text": [
      "_class_\n",
      "F     444\n",
      "SE    125\n",
      "US     85\n",
      "O      77\n",
      "PE     67\n",
      "LF     49\n",
      "A      31\n",
      "MN     24\n",
      "SC     22\n",
      "FT     18\n",
      "L      15\n",
      "PO     13\n",
      "Name: count, dtype: int64\n"
     ]
    }
   ],
   "source": [
    "class_distribution = df['_class_'].value_counts()\n",
    "print(class_distribution)"
   ]
  },
  {
   "cell_type": "code",
   "execution_count": 5,
   "id": "e3d7057a-3221-46a4-95e6-66a2af495211",
   "metadata": {},
   "outputs": [
    {
     "name": "stdout",
     "output_type": "stream",
     "text": [
      "297     O\n",
      "669     F\n",
      "586     A\n",
      "211    US\n",
      "65      F\n",
      "       ..\n",
      "818     F\n",
      "862     F\n",
      "512     F\n",
      "513     F\n",
      "441     O\n",
      "Name: _class_, Length: 97, dtype: object\n",
      "_class_\n",
      "F     44\n",
      "SE    13\n",
      "US     9\n",
      "O      8\n",
      "PE     7\n",
      "LF     5\n",
      "A      3\n",
      "MN     2\n",
      "SC     2\n",
      "FT     2\n",
      "L      1\n",
      "PO     1\n",
      "Name: count, dtype: int64\n"
     ]
    }
   ],
   "source": [
    "from sklearn.model_selection import train_test_split\n",
    "y = df['_class_']\n",
    "X = df['RequirementText']\n",
    "\n",
    "# 假设 X 是特征，y 是目标变量（类别标签）\n",
    "X_train, X_test, y_train, y_test = train_test_split(X, y, test_size=0.1, stratify=y)\n",
    "\n",
    "print(y_test)\n",
    "class_distribution = y_test.value_counts()\n",
    "print(class_distribution)"
   ]
  },
  {
   "cell_type": "code",
   "execution_count": 6,
   "id": "671deca6-85fe-4be4-ab09-3c1ee057bbf3",
   "metadata": {},
   "outputs": [
    {
     "name": "stdout",
     "output_type": "stream",
     "text": [
      "Accuracy (TF-IDF): 0.6597938144329897\n",
      "Classification Report (TF-IDF):\n",
      "               precision    recall  f1-score   support\n",
      "\n",
      "           A       1.00      0.67      0.80         3\n",
      "           F       0.63      0.95      0.76        44\n",
      "          FT       0.00      0.00      0.00         2\n",
      "           L       0.00      0.00      0.00         1\n",
      "          LF       0.50      0.20      0.29         5\n",
      "          MN       0.00      0.00      0.00         2\n",
      "           O       0.80      0.50      0.62         8\n",
      "          PE       0.67      0.57      0.62         7\n",
      "          PO       1.00      1.00      1.00         1\n",
      "          SC       0.00      0.00      0.00         2\n",
      "          SE       0.86      0.46      0.60        13\n",
      "          US       0.57      0.44      0.50         9\n",
      "\n",
      "    accuracy                           0.66        97\n",
      "   macro avg       0.50      0.40      0.43        97\n",
      "weighted avg       0.63      0.66      0.62        97\n",
      "\n"
     ]
    },
    {
     "name": "stderr",
     "output_type": "stream",
     "text": [
      "/home/li/dsse/indi/indi/lib/python3.10/site-packages/sklearn/metrics/_classification.py:1471: UndefinedMetricWarning: Precision and F-score are ill-defined and being set to 0.0 in labels with no predicted samples. Use `zero_division` parameter to control this behavior.\n",
      "  _warn_prf(average, modifier, msg_start, len(result))\n",
      "/home/li/dsse/indi/indi/lib/python3.10/site-packages/sklearn/metrics/_classification.py:1471: UndefinedMetricWarning: Precision and F-score are ill-defined and being set to 0.0 in labels with no predicted samples. Use `zero_division` parameter to control this behavior.\n",
      "  _warn_prf(average, modifier, msg_start, len(result))\n",
      "/home/li/dsse/indi/indi/lib/python3.10/site-packages/sklearn/metrics/_classification.py:1471: UndefinedMetricWarning: Precision and F-score are ill-defined and being set to 0.0 in labels with no predicted samples. Use `zero_division` parameter to control this behavior.\n",
      "  _warn_prf(average, modifier, msg_start, len(result))\n"
     ]
    }
   ],
   "source": [
    "from sklearn.ensemble import RandomForestClassifier\n",
    "# 使用TfidfVectorizer进行转换\n",
    "ngram_range = (1,2)\n",
    "min_df = 0.01 # ignore terms that appear in less than 1% of the documents\n",
    "max_df = 0.8 # ignore terms that appear in more than 80% of the documents\n",
    "\n",
    "tfidf_vectorizer = TfidfVectorizer(encoding='utf-8',\n",
    "                        ngram_range=ngram_range,\n",
    "                        stop_words=None,\n",
    "                        lowercase=False,\n",
    "                        max_df=max_df,\n",
    "                        min_df=min_df,\n",
    "                        norm='l2',\n",
    "                        sublinear_tf=True)\n",
    "\n",
    "X_train_tfidf = tfidf_vectorizer.fit_transform(X_train)\n",
    "X_test_tfidf = tfidf_vectorizer.transform(X_test)\n",
    "\n",
    "model_tfidf = RandomForestClassifier()\n",
    "model_tfidf.fit(X_train_tfidf, y_train)\n",
    "y_pred_tfidf = model_tfidf.predict(X_test_tfidf)\n",
    "\n",
    "# 评估模型性能\n",
    "print(\"Accuracy (TF-IDF):\", accuracy_score(y_test, y_pred_tfidf))\n",
    "print(\"Classification Report (TF-IDF):\\n\", classification_report(y_test, y_pred_tfidf))"
   ]
  },
  {
   "cell_type": "code",
   "execution_count": 7,
   "id": "0f0708dd-4660-4b4b-89de-eefd3792671b",
   "metadata": {},
   "outputs": [
    {
     "name": "stdout",
     "output_type": "stream",
     "text": [
      "Best parameters found (Random Forest):  {'clf__criterion': 'gini', 'clf__max_depth': None, 'clf__min_samples_leaf': 1, 'clf__min_samples_split': 2, 'clf__n_estimators': 200}\n",
      "Best f1 score (Random Forest):  0.6137654999231683\n",
      "Accuracy (Tuned - Random Forest): 0.6701030927835051\n",
      "Classification Report (Tuned - Random Forest):\n",
      "               precision    recall  f1-score   support\n",
      "\n",
      "           A       0.67      0.67      0.67         3\n",
      "           F       0.66      0.98      0.79        44\n",
      "          FT       0.00      0.00      0.00         2\n",
      "           L       0.00      0.00      0.00         1\n",
      "          LF       0.50      0.20      0.29         5\n",
      "          MN       0.00      0.00      0.00         2\n",
      "           O       0.80      0.50      0.62         8\n",
      "          PE       0.57      0.57      0.57         7\n",
      "          PO       1.00      1.00      1.00         1\n",
      "          SC       0.00      0.00      0.00         2\n",
      "          SE       0.75      0.46      0.57        13\n",
      "          US       0.67      0.44      0.53         9\n",
      "\n",
      "    accuracy                           0.67        97\n",
      "   macro avg       0.47      0.40      0.42        97\n",
      "weighted avg       0.63      0.67      0.62        97\n",
      "\n"
     ]
    },
    {
     "name": "stderr",
     "output_type": "stream",
     "text": [
      "/home/li/dsse/indi/indi/lib/python3.10/site-packages/sklearn/metrics/_classification.py:1471: UndefinedMetricWarning: Precision and F-score are ill-defined and being set to 0.0 in labels with no predicted samples. Use `zero_division` parameter to control this behavior.\n",
      "  _warn_prf(average, modifier, msg_start, len(result))\n",
      "/home/li/dsse/indi/indi/lib/python3.10/site-packages/sklearn/metrics/_classification.py:1471: UndefinedMetricWarning: Precision and F-score are ill-defined and being set to 0.0 in labels with no predicted samples. Use `zero_division` parameter to control this behavior.\n",
      "  _warn_prf(average, modifier, msg_start, len(result))\n",
      "/home/li/dsse/indi/indi/lib/python3.10/site-packages/sklearn/metrics/_classification.py:1471: UndefinedMetricWarning: Precision and F-score are ill-defined and being set to 0.0 in labels with no predicted samples. Use `zero_division` parameter to control this behavior.\n",
      "  _warn_prf(average, modifier, msg_start, len(result))\n"
     ]
    }
   ],
   "source": [
    "from sklearn.model_selection import GridSearchCV\n",
    "from sklearn.feature_extraction.text import TfidfVectorizer\n",
    "from sklearn.pipeline import Pipeline\n",
    "# 导入 Random Forest 模型\n",
    "from sklearn.ensemble import RandomForestClassifier\n",
    "\n",
    "# 创建一个Pipeline，仅包括 Random Forest 模型\n",
    "pipeline_rf = Pipeline([\n",
    "    ('clf', RandomForestClassifier())\n",
    "])\n",
    "\n",
    "# 设置需要调优的参数，包括 Random Forest 的参数\n",
    "parameters_rf = {\n",
    "    'clf__n_estimators': [50, 100, 200],\n",
    "    'clf__criterion': ['gini', 'entropy'],\n",
    "    'clf__max_depth': [None, 10, 20, 30],\n",
    "    'clf__min_samples_split': [2, 5, 10],\n",
    "    'clf__min_samples_leaf': [1, 2, 4]\n",
    "}\n",
    "\n",
    "# 使用 GridSearchCV 进行模型选择和调参，设置评价标准为 f1 score\n",
    "grid_search_rf = GridSearchCV(pipeline_rf, parameters_rf, scoring='f1_weighted', cv=5, refit=True)\n",
    "grid_search_rf.fit(X_train_tfidf, y_train)\n",
    "\n",
    "# 输出最佳参数和对应的 f1 score\n",
    "print(\"Best parameters found (Random Forest): \", grid_search_rf.best_params_)\n",
    "print(\"Best f1 score (Random Forest): \", grid_search_rf.best_score_)\n",
    "\n",
    "best_model_rf = grid_search_rf.best_estimator_\n",
    "\n",
    "y_pred_tuned_rf = best_model_rf.predict(X_test_tfidf)\n",
    "\n",
    "# 输出准确率和分类报告\n",
    "print(\"Accuracy (Tuned - Random Forest):\", accuracy_score(y_test, y_pred_tuned_rf))\n",
    "print(\"Classification Report (Tuned - Random Forest):\\n\", classification_report(y_test, y_pred_tuned_rf))"
   ]
  },
  {
   "cell_type": "code",
   "execution_count": 8,
   "id": "749bd48b-d668-49e1-91fa-ff34195c56aa",
   "metadata": {},
   "outputs": [
    {
     "name": "stdout",
     "output_type": "stream",
     "text": [
      "Accuracy (TF-IDF): 0.8247422680412371\n",
      "Classification Report (TF-IDF):\n",
      "               precision    recall  f1-score   support\n",
      "\n",
      "           0       0.81      0.87      0.84       102\n",
      "           1       0.85      0.77      0.81        92\n",
      "\n",
      "    accuracy                           0.82       194\n",
      "   macro avg       0.83      0.82      0.82       194\n",
      "weighted avg       0.83      0.82      0.82       194\n",
      "\n"
     ]
    }
   ],
   "source": [
    "# F binary\n",
    "\n",
    "df['binary_label'] = df['_class_'].apply(lambda x: 1 if x == 'F' else 0)\n",
    "X_train, X_test, y_train, y_test = train_test_split(df['RequirementText'], df['binary_label'], test_size=0.2, random_state=42)\n",
    "\n",
    "# 使用TfidfVectorizer进行转换\n",
    "ngram_range = (1,2)\n",
    "min_df = 0.01 # ignore terms that appear in less than 1% of the documents\n",
    "max_df = 0.8 # ignore terms that appear in more than 80% of the documents\n",
    "\n",
    "tfidf_vectorizer = TfidfVectorizer(encoding='utf-8',\n",
    "                        ngram_range=ngram_range,\n",
    "                        stop_words=None,\n",
    "                        lowercase=False,\n",
    "                        max_df=max_df,\n",
    "                        min_df=min_df,\n",
    "                        norm='l2',\n",
    "                        sublinear_tf=True)\n",
    "\n",
    "X_train_tfidf = tfidf_vectorizer.fit_transform(X_train)\n",
    "X_test_tfidf = tfidf_vectorizer.transform(X_test)\n",
    "\n",
    "model_tfidf = MultinomialNB()\n",
    "model_tfidf.fit(X_train_tfidf, y_train)\n",
    "\n",
    "y_pred_tfidf = model_tfidf.predict(X_test_tfidf)\n",
    "\n",
    "print(\"Accuracy (TF-IDF):\", accuracy_score(y_test, y_pred_tfidf))\n",
    "print(\"Classification Report (TF-IDF):\\n\", classification_report(y_test, y_pred_tfidf))"
   ]
  },
  {
   "cell_type": "code",
   "execution_count": 9,
   "id": "05058138-ab46-4bf0-bb01-77964c3918ca",
   "metadata": {},
   "outputs": [
    {
     "name": "stdout",
     "output_type": "stream",
     "text": [
      "Accuracy (TF-IDF): 0.5377358490566038\n",
      "Classification Report (TF-IDF):\n",
      "               precision    recall  f1-score   support\n",
      "\n",
      "           A       1.00      0.17      0.29         6\n",
      "          FT       1.00      0.00      0.00         4\n",
      "           L       1.00      0.00      0.00         3\n",
      "          LF       0.33      0.10      0.15        10\n",
      "          MN       1.00      0.00      0.00         5\n",
      "           O       0.55      0.69      0.61        16\n",
      "          PE       0.69      0.69      0.69        13\n",
      "          PO       1.00      0.00      0.00         3\n",
      "          SC       1.00      0.00      0.00         4\n",
      "          SE       0.51      0.88      0.65        25\n",
      "          US       0.50      0.76      0.60        17\n",
      "\n",
      "    accuracy                           0.54       106\n",
      "   macro avg       0.78      0.30      0.27       106\n",
      "weighted avg       0.64      0.54      0.46       106\n",
      "\n"
     ]
    }
   ],
   "source": [
    "filtered_df = df[df['_class_'] != 'F']\n",
    "X_train, X_test, y_train, y_test = train_test_split(filtered_df['RequirementText'], filtered_df['_class_'], test_size=0.2, random_state=42, stratify=filtered_df['_class_'])\n",
    "\n",
    "# 使用TfidfVectorizer进行转换\n",
    "ngram_range = (1,2)\n",
    "min_df = 0.01 # ignore terms that appear in less than 1% of the documents\n",
    "max_df = 0.8 # ignore terms that appear in more than 80% of the documents\n",
    "\n",
    "tfidf_vectorizer = TfidfVectorizer(encoding='utf-8',\n",
    "                        ngram_range=ngram_range,\n",
    "                        stop_words=None,\n",
    "                        lowercase=False,\n",
    "                        max_df=max_df,\n",
    "                        min_df=min_df,\n",
    "                        norm='l2',\n",
    "                        sublinear_tf=True)\n",
    "\n",
    "X_train_tfidf = tfidf_vectorizer.fit_transform(X_train)\n",
    "X_test_tfidf = tfidf_vectorizer.transform(X_test)\n",
    "\n",
    "model_tfidf = MultinomialNB()\n",
    "model_tfidf.fit(X_train_tfidf, y_train)\n",
    "\n",
    "y_pred_tfidf = model_tfidf.predict(X_test_tfidf)\n",
    "\n",
    "print(\"Accuracy (TF-IDF):\", accuracy_score(y_test, y_pred_tfidf))\n",
    "print(\"Classification Report (TF-IDF):\\n\", classification_report(y_test, y_pred_tfidf, zero_division=1))"
   ]
  },
  {
   "cell_type": "code",
   "execution_count": 10,
   "id": "1f6defe3-db0e-46ff-813f-768804e01562",
   "metadata": {},
   "outputs": [
    {
     "name": "stdout",
     "output_type": "stream",
     "text": [
      "Accuracy (TF-IDF): 0.6086956521739131\n",
      "Classification Report (TF-IDF):\n",
      "               precision    recall  f1-score   support\n",
      "\n",
      "          MN       1.00      0.00      0.00         5\n",
      "          PE       0.61      1.00      0.76        14\n",
      "          SC       1.00      0.00      0.00         4\n",
      "\n",
      "    accuracy                           0.61        23\n",
      "   macro avg       0.87      0.33      0.25        23\n",
      "weighted avg       0.76      0.61      0.46        23\n",
      "\n"
     ]
    }
   ],
   "source": [
    "filtered_df = df[df['_class_'].isin(['MN', 'SC', 'PE'])]\n",
    "X_train, X_test, y_train, y_test = train_test_split(filtered_df['RequirementText'], filtered_df['_class_'], test_size=0.2, random_state=42, stratify=filtered_df['_class_'])\n",
    "\n",
    "# 使用TfidfVectorizer进行转换\n",
    "ngram_range = (1,2)\n",
    "min_df = 0.01 # ignore terms that appear in less than 1% of the documents\n",
    "max_df = 0.8 # ignore terms that appear in more than 80% of the documents\n",
    "\n",
    "tfidf_vectorizer = TfidfVectorizer(encoding='utf-8',\n",
    "                        ngram_range=ngram_range,\n",
    "                        stop_words=None,\n",
    "                        lowercase=False,\n",
    "                        max_df=max_df,\n",
    "                        min_df=min_df,\n",
    "                        norm='l2',\n",
    "                        sublinear_tf=True)\n",
    "\n",
    "X_train_tfidf = tfidf_vectorizer.fit_transform(X_train)\n",
    "X_test_tfidf = tfidf_vectorizer.transform(X_test)\n",
    "\n",
    "model_tfidf = MultinomialNB()\n",
    "model_tfidf.fit(X_train_tfidf, y_train)\n",
    "\n",
    "y_pred_tfidf = model_tfidf.predict(X_test_tfidf)\n",
    "\n",
    "print(\"Accuracy (TF-IDF):\", accuracy_score(y_test, y_pred_tfidf))\n",
    "print(\"Classification Report (TF-IDF):\\n\", classification_report(y_test, y_pred_tfidf, zero_division=1))"
   ]
  },
  {
   "cell_type": "code",
   "execution_count": 11,
   "id": "a1ae7a5e-e903-4bff-9f12-d797e4872d21",
   "metadata": {},
   "outputs": [
    {
     "name": "stdout",
     "output_type": "stream",
     "text": [
      "Accuracy (TF-IDF): 0.7\n",
      "Classification Report (TF-IDF):\n",
      "               precision    recall  f1-score   support\n",
      "\n",
      "           A       0.67      1.00      0.80         6\n",
      "          FT       1.00      0.25      0.40         4\n",
      "\n",
      "    accuracy                           0.70        10\n",
      "   macro avg       0.83      0.62      0.60        10\n",
      "weighted avg       0.80      0.70      0.64        10\n",
      "\n"
     ]
    }
   ],
   "source": [
    "filtered_df = df[df['_class_'].isin(['A', 'FT'])]\n",
    "X_train, X_test, y_train, y_test = train_test_split(filtered_df['RequirementText'], filtered_df['_class_'], test_size=0.2, random_state=42, stratify=filtered_df['_class_'])\n",
    "\n",
    "# 使用TfidfVectorizer进行转换\n",
    "ngram_range = (1,2)\n",
    "min_df = 0.01 # ignore terms that appear in less than 1% of the documents\n",
    "max_df = 0.8 # ignore terms that appear in more than 80% of the documents\n",
    "\n",
    "tfidf_vectorizer = TfidfVectorizer(encoding='utf-8',\n",
    "                        ngram_range=ngram_range,\n",
    "                        stop_words=None,\n",
    "                        lowercase=False,\n",
    "                        max_df=max_df,\n",
    "                        min_df=min_df,\n",
    "                        norm='l2',\n",
    "                        sublinear_tf=True)\n",
    "\n",
    "X_train_tfidf = tfidf_vectorizer.fit_transform(X_train)\n",
    "X_test_tfidf = tfidf_vectorizer.transform(X_test)\n",
    "\n",
    "model_tfidf = MultinomialNB()\n",
    "model_tfidf.fit(X_train_tfidf, y_train)\n",
    "\n",
    "y_pred_tfidf = model_tfidf.predict(X_test_tfidf)\n",
    "\n",
    "print(\"Accuracy (TF-IDF):\", accuracy_score(y_test, y_pred_tfidf))\n",
    "print(\"Classification Report (TF-IDF):\\n\", classification_report(y_test, y_pred_tfidf, zero_division=1))"
   ]
  },
  {
   "cell_type": "code",
   "execution_count": 12,
   "id": "fd4a9531-6dec-4abc-89bf-120b28175f14",
   "metadata": {},
   "outputs": [
    {
     "name": "stdout",
     "output_type": "stream",
     "text": [
      "Accuracy (TF-IDF): 0.8928571428571429\n",
      "Classification Report (TF-IDF):\n",
      "               precision    recall  f1-score   support\n",
      "\n",
      "           L       1.00      0.00      0.00         3\n",
      "          SE       0.89      1.00      0.94        25\n",
      "\n",
      "    accuracy                           0.89        28\n",
      "   macro avg       0.95      0.50      0.47        28\n",
      "weighted avg       0.90      0.89      0.84        28\n",
      "\n"
     ]
    }
   ],
   "source": [
    "filtered_df = df[df['_class_'].isin(['SE', 'L'])]\n",
    "X_train, X_test, y_train, y_test = train_test_split(filtered_df['RequirementText'], filtered_df['_class_'], test_size=0.2, random_state=42, stratify=filtered_df['_class_'])\n",
    "\n",
    "# 使用TfidfVectorizer进行转换\n",
    "ngram_range = (1,2)\n",
    "min_df = 0.01 # ignore terms that appear in less than 1% of the documents\n",
    "max_df = 0.8 # ignore terms that appear in more than 80% of the documents\n",
    "\n",
    "tfidf_vectorizer = TfidfVectorizer(encoding='utf-8',\n",
    "                        ngram_range=ngram_range,\n",
    "                        stop_words=None,\n",
    "                        lowercase=False,\n",
    "                        max_df=max_df,\n",
    "                        min_df=min_df,\n",
    "                        norm='l2',\n",
    "                        sublinear_tf=True)\n",
    "\n",
    "X_train_tfidf = tfidf_vectorizer.fit_transform(X_train)\n",
    "X_test_tfidf = tfidf_vectorizer.transform(X_test)\n",
    "\n",
    "model_tfidf = MultinomialNB()\n",
    "model_tfidf.fit(X_train_tfidf, y_train)\n",
    "\n",
    "y_pred_tfidf = model_tfidf.predict(X_test_tfidf)\n",
    "\n",
    "print(\"Accuracy (TF-IDF):\", accuracy_score(y_test, y_pred_tfidf))\n",
    "print(\"Classification Report (TF-IDF):\\n\", classification_report(y_test, y_pred_tfidf, zero_division=1))"
   ]
  },
  {
   "cell_type": "code",
   "execution_count": 13,
   "id": "6418dae6-38a9-498c-a7a9-adabcaa80933",
   "metadata": {},
   "outputs": [
    {
     "name": "stdout",
     "output_type": "stream",
     "text": [
      "Accuracy (TF-IDF): 0.8484848484848485\n",
      "Classification Report (TF-IDF):\n",
      "               precision    recall  f1-score   support\n",
      "\n",
      "           O       0.92      0.75      0.83        16\n",
      "          US       0.80      0.94      0.86        17\n",
      "\n",
      "    accuracy                           0.85        33\n",
      "   macro avg       0.86      0.85      0.85        33\n",
      "weighted avg       0.86      0.85      0.85        33\n",
      "\n"
     ]
    }
   ],
   "source": [
    "filtered_df = df[df['_class_'].isin(['O', 'US'])]\n",
    "X_train, X_test, y_train, y_test = train_test_split(filtered_df['RequirementText'], filtered_df['_class_'], test_size=0.2, random_state=42, stratify=filtered_df['_class_'])\n",
    "\n",
    "# 使用TfidfVectorizer进行转换\n",
    "ngram_range = (1,2)\n",
    "min_df = 0.01 # ignore terms that appear in less than 1% of the documents\n",
    "max_df = 0.8 # ignore terms that appear in more than 80% of the documents\n",
    "\n",
    "tfidf_vectorizer = TfidfVectorizer(encoding='utf-8',\n",
    "                        ngram_range=ngram_range,\n",
    "                        stop_words=None,\n",
    "                        lowercase=False,\n",
    "                        max_df=max_df,\n",
    "                        min_df=min_df,\n",
    "                        norm='l2',\n",
    "                        sublinear_tf=True)\n",
    "\n",
    "X_train_tfidf = tfidf_vectorizer.fit_transform(X_train)\n",
    "X_test_tfidf = tfidf_vectorizer.transform(X_test)\n",
    "\n",
    "model_tfidf = MultinomialNB()\n",
    "model_tfidf.fit(X_train_tfidf, y_train)\n",
    "\n",
    "y_pred_tfidf = model_tfidf.predict(X_test_tfidf)\n",
    "\n",
    "print(\"Accuracy (TF-IDF):\", accuracy_score(y_test, y_pred_tfidf))\n",
    "print(\"Classification Report (TF-IDF):\\n\", classification_report(y_test, y_pred_tfidf, zero_division=1))"
   ]
  },
  {
   "cell_type": "code",
   "execution_count": null,
   "id": "59a2e964-a49a-4b32-b3a5-75b626e4de52",
   "metadata": {},
   "outputs": [],
   "source": []
  },
  {
   "cell_type": "code",
   "execution_count": null,
   "id": "39924618-c88f-46cc-b2d6-c3794c3e2d8e",
   "metadata": {},
   "outputs": [],
   "source": []
  }
 ],
 "metadata": {
  "kernelspec": {
   "display_name": "Python 3 (ipykernel)",
   "language": "python",
   "name": "python3"
  },
  "language_info": {
   "codemirror_mode": {
    "name": "ipython",
    "version": 3
   },
   "file_extension": ".py",
   "mimetype": "text/x-python",
   "name": "python",
   "nbconvert_exporter": "python",
   "pygments_lexer": "ipython3",
   "version": "3.10.12"
  }
 },
 "nbformat": 4,
 "nbformat_minor": 5
}
