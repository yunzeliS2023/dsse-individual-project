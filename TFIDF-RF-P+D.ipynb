{
 "cells": [
  {
   "cell_type": "code",
   "execution_count": 1,
   "id": "5c658d8d-e841-467c-8536-c333207c92aa",
   "metadata": {},
   "outputs": [
    {
     "name": "stdout",
     "output_type": "stream",
     "text": [
      "      ProjectID                                    RequirementText _class_\n",
      "0             1  The system shall refresh the display every 60 ...      PE\n",
      "1             1  The application shall match the color of the s...      LF\n",
      "2             1  If projected  the data must be readable.  On a...      US\n",
      "3             1  The product shall be available during normal b...       A\n",
      "4             1  If projected  the data must be understandable....      US\n",
      "...         ...                                                ...     ...\n",
      "2052          9  The database may trade off fidelity through ca...      FT\n",
      "2053          9  The API shall have master topology replicating...      FT\n",
      "2054          9  The system must parse, filter, transform and s...      FT\n",
      "2055          9  The application shall employ real-user monitor...      FT\n",
      "2056          9  The software should apply graceful degradation...      FT\n",
      "\n",
      "[2057 rows x 3 columns]\n"
     ]
    }
   ],
   "source": [
    "import pandas as pd\n",
    "import arff as liacarff\n",
    "\n",
    "# 加载 ARFF 文件\n",
    "with open('PROMISE_DOSSPRE_OLD_3.arff', 'r') as f:\n",
    "    data_dict = liacarff.load(f)\n",
    "\n",
    "# 提取数据\n",
    "data = data_dict['data']\n",
    "\n",
    "# 转换为 DataFrame\n",
    "df = pd.DataFrame(data, columns=[attr[0] for attr in data_dict['attributes']])\n",
    "df['ProjectID'] = df['ProjectID'].astype(int)  # 将 ProjectID 列转换为整数类型\n",
    "\n",
    "# 显示 DataFrame\n",
    "print(df)"
   ]
  },
  {
   "cell_type": "code",
   "execution_count": 2,
   "id": "59f1598c-1b5e-42a4-bf9b-93507a98a49d",
   "metadata": {},
   "outputs": [
    {
     "name": "stderr",
     "output_type": "stream",
     "text": [
      "[nltk_data] Downloading package stopwords to /home/li/nltk_data...\n",
      "[nltk_data]   Package stopwords is already up-to-date!\n",
      "[nltk_data] Downloading package punkt to /home/li/nltk_data...\n",
      "[nltk_data]   Package punkt is already up-to-date!\n",
      "[nltk_data] Downloading package wordnet to /home/li/nltk_data...\n",
      "[nltk_data]   Package wordnet is already up-to-date!\n"
     ]
    },
    {
     "name": "stdout",
     "output_type": "stream",
     "text": [
      "   ProjectID                                    RequirementText _class_\n",
      "0          1    system shall refresh display every 60 seconds .      PE\n",
      "1          1  application shall match color schema set forth...      LF\n",
      "2          1  projected data must readable . 10x10 projectio...      US\n",
      "3          1  product shall available normal business hours ...       A\n",
      "4          1  projected data must understandable . 10x10 pro...      US\n"
     ]
    }
   ],
   "source": [
    "# DATA PREPROCESSING\n",
    "import pandas as pd\n",
    "import nltk\n",
    "from nltk.corpus import stopwords\n",
    "from nltk.tokenize import word_tokenize\n",
    "from nltk.stem import PorterStemmer\n",
    "from nltk.stem import WordNetLemmatizer\n",
    "import re\n",
    "import string\n",
    "\n",
    "# 下载NLTK的停用词和词性标注器数据\n",
    "nltk.download('stopwords')\n",
    "nltk.download('punkt')\n",
    "nltk.download('wordnet')\n",
    "\n",
    "# # lower\n",
    "df['RequirementText'] = df['RequirementText'].str.lower()\n",
    "\n",
    "# # Remove punctuation, leading and trailing spaces\n",
    "# df['RequirementText'] = df['RequirementText'].apply(lambda x: re.sub(f\"[{re.escape(string.punctuation)}]\", \"\", x.strip()))\n",
    "\n",
    "# # 分词\n",
    "df['RequirementText'] = df['RequirementText'].apply(word_tokenize)\n",
    "\n",
    "# # stopwords\n",
    "stop_words = set(stopwords.words('english'))\n",
    "df['RequirementText'] = df['RequirementText'].apply(lambda x: [word for word in x if word not in stop_words])\n",
    "\n",
    "# # stemming\n",
    "# stemmer = PorterStemmer()\n",
    "# df['RequirementText'] = df['RequirementText'].apply(lambda x: [stemmer.stem(word) for word in x])\n",
    "\n",
    "# # lemmatization\n",
    "# lemmatizer = WordNetLemmatizer()\n",
    "# df['RequirementText'] = df['RequirementText'].apply(lambda x: [lemmatizer.lemmatize(word) for word in x])\n",
    "\n",
    "# # 合并词语为字符串\n",
    "df['RequirementText'] = df['RequirementText'].apply(lambda x: ' '.join(x))\n",
    "\n",
    "# Replace multiple spaces with a single space\n",
    "df['RequirementText'] = df['RequirementText'].apply(lambda x: re.sub(' +', ' ', x))\n",
    "\n",
    "# 移除整个列中每个字符串首尾的全部空格\n",
    "df['RequirementText'] = df['RequirementText'].str.strip()\n",
    "\n",
    "# 查看处理后的数据集\n",
    "print(df.head())"
   ]
  },
  {
   "cell_type": "code",
   "execution_count": 3,
   "id": "2df99007-ddfa-4b3a-99b6-e0f687b55ad2",
   "metadata": {},
   "outputs": [],
   "source": [
    "import pandas as pd\n",
    "from sklearn.feature_extraction.text import CountVectorizer, TfidfVectorizer\n",
    "from sklearn.feature_selection import chi2\n",
    "from sklearn.model_selection import train_test_split\n",
    "from sklearn.naive_bayes import MultinomialNB\n",
    "from sklearn.metrics import accuracy_score, classification_report"
   ]
  },
  {
   "cell_type": "code",
   "execution_count": 4,
   "id": "e3d7057a-3221-46a4-95e6-66a2af495211",
   "metadata": {},
   "outputs": [
    {
     "name": "stdout",
     "output_type": "stream",
     "text": [
      "1106    US\n",
      "1795    SC\n",
      "1914     O\n",
      "927      F\n",
      "699     PE\n",
      "        ..\n",
      "1741    LF\n",
      "892      F\n",
      "2005     A\n",
      "117      F\n",
      "694     SE\n",
      "Name: _class_, Length: 206, dtype: object\n",
      "_class_\n",
      "F     44\n",
      "PE    25\n",
      "SE    24\n",
      "US    22\n",
      "MN    16\n",
      "LF    16\n",
      "O     13\n",
      "A     12\n",
      "SC    10\n",
      "L      9\n",
      "PO     8\n",
      "FT     7\n",
      "Name: count, dtype: int64\n"
     ]
    }
   ],
   "source": [
    "from sklearn.model_selection import train_test_split\n",
    "y = df['_class_']\n",
    "X = df['RequirementText']\n",
    "\n",
    "# 假设 X 是特征，y 是目标变量（类别标签）\n",
    "X_train, X_test, y_train, y_test = train_test_split(X, y, test_size=0.1, stratify=y)\n",
    "\n",
    "print(y_test)\n",
    "class_distribution = y_test.value_counts()\n",
    "print(class_distribution)"
   ]
  },
  {
   "cell_type": "code",
   "execution_count": 5,
   "id": "671deca6-85fe-4be4-ab09-3c1ee057bbf3",
   "metadata": {},
   "outputs": [
    {
     "name": "stdout",
     "output_type": "stream",
     "text": [
      "Accuracy (TF-IDF): 0.587378640776699\n",
      "Classification Report (TF-IDF):\n",
      "               precision    recall  f1-score   support\n",
      "\n",
      "           A       0.40      0.50      0.44        12\n",
      "           F       0.59      0.80      0.68        44\n",
      "          FT       0.50      0.29      0.36         7\n",
      "           L       0.60      0.33      0.43         9\n",
      "          LF       0.68      0.81      0.74        16\n",
      "          MN       0.62      0.50      0.55        16\n",
      "           O       0.64      0.54      0.58        13\n",
      "          PE       0.67      0.48      0.56        25\n",
      "          PO       0.57      0.50      0.53         8\n",
      "          SC       0.86      0.60      0.71        10\n",
      "          SE       0.42      0.42      0.42        24\n",
      "          US       0.62      0.68      0.65        22\n",
      "\n",
      "    accuracy                           0.59       206\n",
      "   macro avg       0.60      0.54      0.56       206\n",
      "weighted avg       0.59      0.59      0.58       206\n",
      "\n"
     ]
    }
   ],
   "source": [
    "from sklearn.ensemble import RandomForestClassifier\n",
    "# 使用TfidfVectorizer进行转换\n",
    "ngram_range = (1,2)\n",
    "min_df = 0.01 # ignore terms that appear in less than 1% of the documents\n",
    "max_df = 0.8 # ignore terms that appear in more than 80% of the documents\n",
    "\n",
    "tfidf_vectorizer = TfidfVectorizer(encoding='utf-8',\n",
    "                        ngram_range=ngram_range,\n",
    "                        stop_words=None,\n",
    "                        lowercase=False,\n",
    "                        max_df=max_df,\n",
    "                        min_df=min_df,\n",
    "                        norm='l2',\n",
    "                        sublinear_tf=True)\n",
    "\n",
    "X_train_tfidf = tfidf_vectorizer.fit_transform(X_train)\n",
    "X_test_tfidf = tfidf_vectorizer.transform(X_test)\n",
    "\n",
    "model_tfidf = RandomForestClassifier()\n",
    "model_tfidf.fit(X_train_tfidf, y_train)\n",
    "y_pred_tfidf = model_tfidf.predict(X_test_tfidf)\n",
    "\n",
    "# 评估模型性能\n",
    "print(\"Accuracy (TF-IDF):\", accuracy_score(y_test, y_pred_tfidf))\n",
    "print(\"Classification Report (TF-IDF):\\n\", classification_report(y_test, y_pred_tfidf))"
   ]
  },
  {
   "cell_type": "code",
   "execution_count": 6,
   "id": "0f0708dd-4660-4b4b-89de-eefd3792671b",
   "metadata": {},
   "outputs": [
    {
     "name": "stdout",
     "output_type": "stream",
     "text": [
      "Best parameters found (Random Forest):  {'clf__criterion': 'gini', 'clf__max_depth': None, 'clf__min_samples_leaf': 1, 'clf__min_samples_split': 5, 'clf__n_estimators': 100}\n",
      "Best f1 score (Random Forest):  0.5711063315098333\n",
      "Accuracy (Tuned - Random Forest): 0.587378640776699\n",
      "Classification Report (Tuned - Random Forest):\n",
      "               precision    recall  f1-score   support\n",
      "\n",
      "           A       0.42      0.42      0.42        12\n",
      "           F       0.62      0.77      0.69        44\n",
      "          FT       0.50      0.29      0.36         7\n",
      "           L       0.67      0.22      0.33         9\n",
      "          LF       0.65      0.69      0.67        16\n",
      "          MN       0.53      0.56      0.55        16\n",
      "           O       0.67      0.62      0.64        13\n",
      "          PE       0.74      0.56      0.64        25\n",
      "          PO       0.60      0.38      0.46         8\n",
      "          SC       1.00      0.60      0.75        10\n",
      "          SE       0.39      0.50      0.44        24\n",
      "          US       0.60      0.68      0.64        22\n",
      "\n",
      "    accuracy                           0.59       206\n",
      "   macro avg       0.61      0.52      0.55       206\n",
      "weighted avg       0.61      0.59      0.58       206\n",
      "\n"
     ]
    }
   ],
   "source": [
    "from sklearn.model_selection import GridSearchCV\n",
    "from sklearn.feature_extraction.text import TfidfVectorizer\n",
    "from sklearn.pipeline import Pipeline\n",
    "# 导入 Random Forest 模型\n",
    "from sklearn.ensemble import RandomForestClassifier\n",
    "\n",
    "# 创建一个Pipeline，仅包括 Random Forest 模型\n",
    "pipeline_rf = Pipeline([\n",
    "    ('clf', RandomForestClassifier())\n",
    "])\n",
    "\n",
    "# 设置需要调优的参数，包括 Random Forest 的参数\n",
    "parameters_rf = {\n",
    "    'clf__n_estimators': [50, 100, 200],\n",
    "    'clf__criterion': ['gini', 'entropy'],\n",
    "    'clf__max_depth': [None, 10, 20, 30],\n",
    "    'clf__min_samples_split': [2, 5, 10],\n",
    "    'clf__min_samples_leaf': [1, 2, 4]\n",
    "}\n",
    "\n",
    "# 使用 GridSearchCV 进行模型选择和调参，设置评价标准为 f1 score\n",
    "grid_search_rf = GridSearchCV(pipeline_rf, parameters_rf, scoring='f1_weighted', cv=5, refit=True)\n",
    "grid_search_rf.fit(X_train_tfidf, y_train)\n",
    "\n",
    "# 输出最佳参数和对应的 f1 score\n",
    "print(\"Best parameters found (Random Forest): \", grid_search_rf.best_params_)\n",
    "print(\"Best f1 score (Random Forest): \", grid_search_rf.best_score_)\n",
    "\n",
    "best_model_rf = grid_search_rf.best_estimator_\n",
    "\n",
    "y_pred_tuned_rf = best_model_rf.predict(X_test_tfidf)\n",
    "\n",
    "# 输出准确率和分类报告\n",
    "print(\"Accuracy (Tuned - Random Forest):\", accuracy_score(y_test, y_pred_tuned_rf))\n",
    "print(\"Classification Report (Tuned - Random Forest):\\n\", classification_report(y_test, y_pred_tuned_rf))"
   ]
  }
 ],
 "metadata": {
  "kernelspec": {
   "display_name": "Python 3 (ipykernel)",
   "language": "python",
   "name": "python3"
  },
  "language_info": {
   "codemirror_mode": {
    "name": "ipython",
    "version": 3
   },
   "file_extension": ".py",
   "mimetype": "text/x-python",
   "name": "python",
   "nbconvert_exporter": "python",
   "pygments_lexer": "ipython3",
   "version": "3.10.12"
  }
 },
 "nbformat": 4,
 "nbformat_minor": 5
}
