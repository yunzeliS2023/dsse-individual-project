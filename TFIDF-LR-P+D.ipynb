{
 "cells": [
  {
   "cell_type": "code",
   "execution_count": 1,
   "id": "5c658d8d-e841-467c-8536-c333207c92aa",
   "metadata": {},
   "outputs": [
    {
     "name": "stdout",
     "output_type": "stream",
     "text": [
      "      ProjectID                                    RequirementText _class_\n",
      "0             1  The system shall refresh the display every 60 ...      PE\n",
      "1             1  The application shall match the color of the s...      LF\n",
      "2             1  If projected  the data must be readable.  On a...      US\n",
      "3             1  The product shall be available during normal b...       A\n",
      "4             1  If projected  the data must be understandable....      US\n",
      "...         ...                                                ...     ...\n",
      "2052          9  The database may trade off fidelity through ca...      FT\n",
      "2053          9  The API shall have master topology replicating...      FT\n",
      "2054          9  The system must parse, filter, transform and s...      FT\n",
      "2055          9  The application shall employ real-user monitor...      FT\n",
      "2056          9  The software should apply graceful degradation...      FT\n",
      "\n",
      "[2057 rows x 3 columns]\n"
     ]
    }
   ],
   "source": [
    "import pandas as pd\n",
    "import arff as liacarff\n",
    "\n",
    "# 加载 ARFF 文件\n",
    "with open('PROMISE_DOSSPRE_OLD_3.arff', 'r') as f:\n",
    "    data_dict = liacarff.load(f)\n",
    "\n",
    "# 提取数据\n",
    "data = data_dict['data']\n",
    "\n",
    "# 转换为 DataFrame\n",
    "df = pd.DataFrame(data, columns=[attr[0] for attr in data_dict['attributes']])\n",
    "df['ProjectID'] = df['ProjectID'].astype(int)  # 将 ProjectID 列转换为整数类型\n",
    "\n",
    "# 显示 DataFrame\n",
    "print(df)"
   ]
  },
  {
   "cell_type": "code",
   "execution_count": 2,
   "id": "59f1598c-1b5e-42a4-bf9b-93507a98a49d",
   "metadata": {},
   "outputs": [
    {
     "name": "stdout",
     "output_type": "stream",
     "text": [
      "   ProjectID                                    RequirementText _class_\n",
      "0          1  the system shall refresh the display every 60 ...      PE\n",
      "1          1  the application shall match the color of the s...      LF\n",
      "2          1  if projected the data must be readable on a 10...      US\n",
      "3          1  the product shall be available during normal b...       A\n",
      "4          1  if projected the data must be understandable o...      US\n"
     ]
    },
    {
     "name": "stderr",
     "output_type": "stream",
     "text": [
      "[nltk_data] Downloading package stopwords to /home/li/nltk_data...\n",
      "[nltk_data]   Package stopwords is already up-to-date!\n",
      "[nltk_data] Downloading package punkt to /home/li/nltk_data...\n",
      "[nltk_data]   Package punkt is already up-to-date!\n",
      "[nltk_data] Downloading package wordnet to /home/li/nltk_data...\n",
      "[nltk_data]   Package wordnet is already up-to-date!\n"
     ]
    }
   ],
   "source": [
    "# DATA PREPROCESSING\n",
    "import pandas as pd\n",
    "import nltk\n",
    "from nltk.corpus import stopwords\n",
    "from nltk.tokenize import word_tokenize\n",
    "from nltk.stem import PorterStemmer\n",
    "from nltk.stem import WordNetLemmatizer\n",
    "import re\n",
    "import string\n",
    "\n",
    "# 下载NLTK的停用词和词性标注器数据\n",
    "nltk.download('stopwords')\n",
    "nltk.download('punkt')\n",
    "nltk.download('wordnet')\n",
    "\n",
    "# lower\n",
    "df['RequirementText'] = df['RequirementText'].str.lower()\n",
    "\n",
    "# Remove punctuation, leading and trailing spaces\n",
    "df['RequirementText'] = df['RequirementText'].apply(lambda x: re.sub(f\"[{re.escape(string.punctuation)}]\", \"\", x.strip()))\n",
    "\n",
    "# 分词\n",
    "# df['RequirementText'] = df['RequirementText'].apply(word_tokenize)\n",
    "\n",
    "# stopwords\n",
    "# stop_words = set(stopwords.words('english'))\n",
    "# df['RequirementText'] = df['RequirementText'].apply(lambda x: [word for word in x if word not in stop_words])\n",
    "\n",
    "# stemming\n",
    "# stemmer = PorterStemmer()\n",
    "# df['RequirementText'] = df['RequirementText'].apply(lambda x: [stemmer.stem(word) for word in x])\n",
    "\n",
    "# # lemmatization\n",
    "# lemmatizer = WordNetLemmatizer()\n",
    "# df['RequirementText'] = df['RequirementText'].apply(lambda x: [lemmatizer.lemmatize(word) for word in x])\n",
    "\n",
    "# 合并词语为字符串\n",
    "# df['RequirementText'] = df['RequirementText'].apply(lambda x: ' '.join(x))\n",
    "\n",
    "# Replace multiple spaces with a single space\n",
    "df['RequirementText'] = df['RequirementText'].apply(lambda x: re.sub(' +', ' ', x))\n",
    "\n",
    "# 移除整个列中每个字符串首尾的全部空格\n",
    "df['RequirementText'] = df['RequirementText'].str.strip()\n",
    "\n",
    "# 查看处理后的数据集\n",
    "print(df.head())"
   ]
  },
  {
   "cell_type": "code",
   "execution_count": 3,
   "id": "2df99007-ddfa-4b3a-99b6-e0f687b55ad2",
   "metadata": {},
   "outputs": [],
   "source": [
    "import pandas as pd\n",
    "from sklearn.feature_extraction.text import CountVectorizer, TfidfVectorizer\n",
    "from sklearn.feature_selection import chi2\n",
    "from sklearn.model_selection import train_test_split\n",
    "from sklearn.naive_bayes import MultinomialNB\n",
    "from sklearn.metrics import accuracy_score, classification_report"
   ]
  },
  {
   "cell_type": "code",
   "execution_count": 4,
   "id": "34fa35b0-11b4-411c-9557-63f314c74e65",
   "metadata": {},
   "outputs": [
    {
     "name": "stdout",
     "output_type": "stream",
     "text": [
      "_class_\n",
      "F     444\n",
      "PE    250\n",
      "SE    235\n",
      "US    219\n",
      "LF    164\n",
      "MN    162\n",
      "O     131\n",
      "A     120\n",
      "SC     96\n",
      "L      86\n",
      "PO     78\n",
      "FT     72\n",
      "Name: count, dtype: int64\n"
     ]
    }
   ],
   "source": [
    "class_distribution = df['_class_'].value_counts()\n",
    "print(class_distribution)"
   ]
  },
  {
   "cell_type": "code",
   "execution_count": 5,
   "id": "1fdc623a-0d0d-4605-8f41-7ab39b4ca2f7",
   "metadata": {},
   "outputs": [
    {
     "data": {
      "image/png": "[encoded data removed]",
      "text/plain": [
       "<Figure size 640x480 with 1 Axes>"
      ]
     },
     "metadata": {},
     "output_type": "display_data"
    }
   ],
   "source": [
    "import matplotlib.pyplot as plt\n",
    "\n",
    "# 获取类别分布\n",
    "class_distribution = df['_class_'].value_counts()\n",
    "\n",
    "# 绘制柱状图\n",
    "plt.bar(class_distribution.index, class_distribution.values)\n",
    "\n",
    "# 添加标签和标题\n",
    "plt.xlabel('Class Label')\n",
    "plt.ylabel('Count')\n",
    "plt.title('Class Distribution')\n",
    "\n",
    "# 显示图表\n",
    "plt.show()\n"
   ]
  },
  {
   "cell_type": "code",
   "execution_count": 6,
   "id": "e3d7057a-3221-46a4-95e6-66a2af495211",
   "metadata": {},
   "outputs": [
    {
     "name": "stdout",
     "output_type": "stream",
     "text": [
      "683      F\n",
      "1175    PO\n",
      "102      F\n",
      "831      F\n",
      "1744    SC\n",
      "        ..\n",
      "1157    SE\n",
      "341      F\n",
      "753      O\n",
      "980      A\n",
      "889      F\n",
      "Name: _class_, Length: 206, dtype: object\n",
      "_class_\n",
      "F     44\n",
      "PE    25\n",
      "SE    24\n",
      "US    22\n",
      "MN    16\n",
      "LF    16\n",
      "O     13\n",
      "A     12\n",
      "SC    10\n",
      "L      9\n",
      "PO     8\n",
      "FT     7\n",
      "Name: count, dtype: int64\n"
     ]
    }
   ],
   "source": [
    "from sklearn.model_selection import train_test_split\n",
    "y = df['_class_']\n",
    "X = df['RequirementText']\n",
    "\n",
    "# 假设 X 是特征，y 是目标变量（类别标签）\n",
    "X_train, X_test, y_train, y_test = train_test_split(X, y, test_size=0.1, stratify=y)\n",
    "\n",
    "print(y_test)\n",
    "class_distribution = y_test.value_counts()\n",
    "print(class_distribution)"
   ]
  },
  {
   "cell_type": "code",
   "execution_count": 7,
   "id": "671deca6-85fe-4be4-ab09-3c1ee057bbf3",
   "metadata": {},
   "outputs": [
    {
     "name": "stdout",
     "output_type": "stream",
     "text": [
      "Accuracy on test set: 67.96%\n",
      "Classification Report:\n",
      "               precision    recall  f1-score   support\n",
      "\n",
      "           A       0.75      0.25      0.38        12\n",
      "           F       0.61      0.93      0.74        44\n",
      "          FT       0.67      0.57      0.62         7\n",
      "           L       1.00      0.33      0.50         9\n",
      "          LF       0.67      0.88      0.76        16\n",
      "          MN       0.80      0.75      0.77        16\n",
      "           O       0.70      0.54      0.61        13\n",
      "          PE       0.67      0.64      0.65        25\n",
      "          PO       1.00      0.62      0.77         8\n",
      "          SC       0.86      0.60      0.71        10\n",
      "          SE       0.52      0.46      0.49        24\n",
      "          US       0.78      0.82      0.80        22\n",
      "\n",
      "    accuracy                           0.68       206\n",
      "   macro avg       0.75      0.62      0.65       206\n",
      "weighted avg       0.70      0.68      0.67       206\n",
      "\n"
     ]
    }
   ],
   "source": [
    "from sklearn.neighbors import KNeighborsClassifier\n",
    "from sklearn.linear_model import LogisticRegression\n",
    "# 使用TfidfVectorizer进行转换\n",
    "ngram_range = (1,2)\n",
    "min_df = 0.01 # ignore terms that appear in less than 1% of the documents\n",
    "max_df = 0.8 # ignore terms that appear in more than 80% of the documents\n",
    "\n",
    "tfidf_vectorizer = TfidfVectorizer(encoding='utf-8',\n",
    "                        ngram_range=ngram_range,\n",
    "                        stop_words=None,\n",
    "                        lowercase=False,\n",
    "                        max_df=max_df,\n",
    "                        min_df=min_df,\n",
    "                        norm='l2',\n",
    "                        sublinear_tf=True)\n",
    "\n",
    "X_train_tfidf = tfidf_vectorizer.fit_transform(X_train)\n",
    "X_test_tfidf = tfidf_vectorizer.transform(X_test)\n",
    "\n",
    "# 定义Logistic Regression模型\n",
    "lr_model = LogisticRegression()\n",
    "\n",
    "# 训练模型\n",
    "lr_model.fit(X_train_tfidf, y_train)\n",
    "\n",
    "# 在测试集上进行预测\n",
    "y_pred = lr_model.predict(X_test_tfidf)\n",
    "\n",
    "# 输出在测试集上的准确率和分类报告\n",
    "accuracy = accuracy_score(y_test, y_pred)\n",
    "print(\"Accuracy on test set: {:.2f}%\".format(accuracy * 100))\n",
    "print(\"Classification Report:\\n\", classification_report(y_test, y_pred))"
   ]
  },
  {
   "cell_type": "code",
   "execution_count": 8,
   "id": "0f0708dd-4660-4b4b-89de-eefd3792671b",
   "metadata": {},
   "outputs": [
    {
     "name": "stdout",
     "output_type": "stream",
     "text": [
      "Best hyperparameters:  {'C': 10, 'penalty': 'l2'}\n",
      "Accuracy on test set: 72.33%\n",
      "Classification Report (KNN):\n",
      "               precision    recall  f1-score   support\n",
      "\n",
      "           A       0.78      0.58      0.67        12\n",
      "           F       0.72      0.89      0.80        44\n",
      "          FT       0.80      0.57      0.67         7\n",
      "           L       1.00      0.33      0.50         9\n",
      "          LF       0.71      0.94      0.81        16\n",
      "          MN       0.75      0.75      0.75        16\n",
      "           O       0.73      0.62      0.67        13\n",
      "          PE       0.72      0.72      0.72        25\n",
      "          PO       1.00      0.62      0.77         8\n",
      "          SC       0.75      0.60      0.67        10\n",
      "          SE       0.59      0.54      0.57        24\n",
      "          US       0.70      0.86      0.78        22\n",
      "\n",
      "    accuracy                           0.72       206\n",
      "   macro avg       0.77      0.67      0.70       206\n",
      "weighted avg       0.74      0.72      0.71       206\n",
      "\n"
     ]
    }
   ],
   "source": [
    "from sklearn.feature_extraction.text import TfidfVectorizer\n",
    "from sklearn.model_selection import train_test_split\n",
    "from sklearn.neighbors import KNeighborsClassifier\n",
    "from sklearn.model_selection import GridSearchCV\n",
    "from sklearn.metrics import accuracy_score\n",
    "\n",
    "# 定义Logistic Regression模型\n",
    "lr_model = LogisticRegression(solver='liblinear')\n",
    "\n",
    "# 定义要调优的超参数网格\n",
    "param_grid = {'C': [0.001, 0.01, 0.1, 1, 10, 100], 'penalty': ['l1', 'l2']}\n",
    "\n",
    "# 创建GridSearchCV对象\n",
    "grid_search = GridSearchCV(lr_model, param_grid, cv=5, scoring='f1_weighted')\n",
    "\n",
    "# 执行Grid Search以选择最佳超参数配置\n",
    "grid_search.fit(X_train_tfidf, y_train)\n",
    "\n",
    "# 输出最佳超参数配置\n",
    "print(\"Best hyperparameters: \", grid_search.best_params_)\n",
    "\n",
    "# 使用最佳超参数配置的模型进行预测\n",
    "best_model = grid_search.best_estimator_\n",
    "y_pred = best_model.predict(X_test_tfidf)\n",
    "\n",
    "# 输出在测试集上的准确率\n",
    "accuracy = accuracy_score(y_test, y_pred)\n",
    "print(\"Accuracy on test set: {:.2f}%\".format(accuracy * 100))\n",
    "print(\"Classification Report (KNN):\\n\", classification_report(y_test, y_pred))"
   ]
  },
  {
   "cell_type": "code",
   "execution_count": 9,
   "id": "749bd48b-d668-49e1-91fa-ff34195c56aa",
   "metadata": {},
   "outputs": [
    {
     "name": "stdout",
     "output_type": "stream",
     "text": [
      "Accuracy (TF-IDF): 0.8932038834951457\n",
      "Classification Report (TF-IDF):\n",
      "               precision    recall  f1-score   support\n",
      "\n",
      "           0       0.90      0.97      0.93       324\n",
      "           1       0.84      0.61      0.71        88\n",
      "\n",
      "    accuracy                           0.89       412\n",
      "   macro avg       0.87      0.79      0.82       412\n",
      "weighted avg       0.89      0.89      0.89       412\n",
      "\n"
     ]
    }
   ],
   "source": [
    "# F binary\n",
    "\n",
    "df['binary_label'] = df['_class_'].apply(lambda x: 1 if x == 'F' else 0)\n",
    "X_train, X_test, y_train, y_test = train_test_split(df['RequirementText'], df['binary_label'], test_size=0.2, random_state=42)\n",
    "\n",
    "# 使用TfidfVectorizer进行转换\n",
    "ngram_range = (1,2)\n",
    "min_df = 0.01 # ignore terms that appear in less than 1% of the documents\n",
    "max_df = 0.8 # ignore terms that appear in more than 80% of the documents\n",
    "\n",
    "tfidf_vectorizer = TfidfVectorizer(encoding='utf-8',\n",
    "                        ngram_range=ngram_range,\n",
    "                        stop_words=None,\n",
    "                        lowercase=False,\n",
    "                        max_df=max_df,\n",
    "                        min_df=min_df,\n",
    "                        norm='l2',\n",
    "                        sublinear_tf=True)\n",
    "\n",
    "X_train_tfidf = tfidf_vectorizer.fit_transform(X_train)\n",
    "X_test_tfidf = tfidf_vectorizer.transform(X_test)\n",
    "\n",
    "model_tfidf = MultinomialNB()\n",
    "model_tfidf.fit(X_train_tfidf, y_train)\n",
    "\n",
    "y_pred_tfidf = model_tfidf.predict(X_test_tfidf)\n",
    "\n",
    "print(\"Accuracy (TF-IDF):\", accuracy_score(y_test, y_pred_tfidf))\n",
    "print(\"Classification Report (TF-IDF):\\n\", classification_report(y_test, y_pred_tfidf))"
   ]
  },
  {
   "cell_type": "code",
   "execution_count": 10,
   "id": "05058138-ab46-4bf0-bb01-77964c3918ca",
   "metadata": {},
   "outputs": [
    {
     "name": "stdout",
     "output_type": "stream",
     "text": [
      "Accuracy (TF-IDF): 0.6501547987616099\n",
      "Classification Report (TF-IDF):\n",
      "               precision    recall  f1-score   support\n",
      "\n",
      "           A       0.72      0.54      0.62        24\n",
      "          FT       0.82      0.64      0.72        14\n",
      "           L       0.67      0.12      0.20        17\n",
      "          LF       0.74      0.79      0.76        33\n",
      "          MN       0.59      0.48      0.53        33\n",
      "           O       0.67      0.69      0.68        26\n",
      "          PE       0.61      0.74      0.67        50\n",
      "          PO       0.88      0.44      0.58        16\n",
      "          SC       1.00      0.74      0.85        19\n",
      "          SE       0.55      0.79      0.65        47\n",
      "          US       0.60      0.70      0.65        44\n",
      "\n",
      "    accuracy                           0.65       323\n",
      "   macro avg       0.71      0.61      0.63       323\n",
      "weighted avg       0.67      0.65      0.64       323\n",
      "\n"
     ]
    }
   ],
   "source": [
    "filtered_df = df[df['_class_'] != 'F']\n",
    "X_train, X_test, y_train, y_test = train_test_split(filtered_df['RequirementText'], filtered_df['_class_'], test_size=0.2, random_state=42, stratify=filtered_df['_class_'])\n",
    "\n",
    "# 使用TfidfVectorizer进行转换\n",
    "ngram_range = (1,2)\n",
    "min_df = 0.01 # ignore terms that appear in less than 1% of the documents\n",
    "max_df = 0.8 # ignore terms that appear in more than 80% of the documents\n",
    "\n",
    "tfidf_vectorizer = TfidfVectorizer(encoding='utf-8',\n",
    "                        ngram_range=ngram_range,\n",
    "                        stop_words=None,\n",
    "                        lowercase=False,\n",
    "                        max_df=max_df,\n",
    "                        min_df=min_df,\n",
    "                        norm='l2',\n",
    "                        sublinear_tf=True)\n",
    "\n",
    "X_train_tfidf = tfidf_vectorizer.fit_transform(X_train)\n",
    "X_test_tfidf = tfidf_vectorizer.transform(X_test)\n",
    "\n",
    "model_tfidf = MultinomialNB()\n",
    "model_tfidf.fit(X_train_tfidf, y_train)\n",
    "\n",
    "y_pred_tfidf = model_tfidf.predict(X_test_tfidf)\n",
    "\n",
    "print(\"Accuracy (TF-IDF):\", accuracy_score(y_test, y_pred_tfidf))\n",
    "print(\"Classification Report (TF-IDF):\\n\", classification_report(y_test, y_pred_tfidf, zero_division=1))"
   ]
  },
  {
   "cell_type": "code",
   "execution_count": 11,
   "id": "1f6defe3-db0e-46ff-813f-768804e01562",
   "metadata": {},
   "outputs": [
    {
     "name": "stdout",
     "output_type": "stream",
     "text": [
      "Accuracy (TF-IDF): 0.8627450980392157\n",
      "Classification Report (TF-IDF):\n",
      "               precision    recall  f1-score   support\n",
      "\n",
      "          MN       0.90      0.79      0.84        33\n",
      "          PE       0.83      0.96      0.89        50\n",
      "          SC       0.93      0.74      0.82        19\n",
      "\n",
      "    accuracy                           0.86       102\n",
      "   macro avg       0.89      0.83      0.85       102\n",
      "weighted avg       0.87      0.86      0.86       102\n",
      "\n"
     ]
    }
   ],
   "source": [
    "filtered_df = df[df['_class_'].isin(['MN', 'SC', 'PE'])]\n",
    "X_train, X_test, y_train, y_test = train_test_split(filtered_df['RequirementText'], filtered_df['_class_'], test_size=0.2, random_state=42, stratify=filtered_df['_class_'])\n",
    "\n",
    "# 使用TfidfVectorizer进行转换\n",
    "ngram_range = (1,2)\n",
    "min_df = 0.01 # ignore terms that appear in less than 1% of the documents\n",
    "max_df = 0.8 # ignore terms that appear in more than 80% of the documents\n",
    "\n",
    "tfidf_vectorizer = TfidfVectorizer(encoding='utf-8',\n",
    "                        ngram_range=ngram_range,\n",
    "                        stop_words=None,\n",
    "                        lowercase=False,\n",
    "                        max_df=max_df,\n",
    "                        min_df=min_df,\n",
    "                        norm='l2',\n",
    "                        sublinear_tf=True)\n",
    "\n",
    "X_train_tfidf = tfidf_vectorizer.fit_transform(X_train)\n",
    "X_test_tfidf = tfidf_vectorizer.transform(X_test)\n",
    "\n",
    "model_tfidf = MultinomialNB()\n",
    "model_tfidf.fit(X_train_tfidf, y_train)\n",
    "\n",
    "y_pred_tfidf = model_tfidf.predict(X_test_tfidf)\n",
    "\n",
    "print(\"Accuracy (TF-IDF):\", accuracy_score(y_test, y_pred_tfidf))\n",
    "print(\"Classification Report (TF-IDF):\\n\", classification_report(y_test, y_pred_tfidf, zero_division=1))"
   ]
  },
  {
   "cell_type": "code",
   "execution_count": 12,
   "id": "a1ae7a5e-e903-4bff-9f12-d797e4872d21",
   "metadata": {},
   "outputs": [
    {
     "name": "stdout",
     "output_type": "stream",
     "text": [
      "Accuracy (TF-IDF): 0.8461538461538461\n",
      "Classification Report (TF-IDF):\n",
      "               precision    recall  f1-score   support\n",
      "\n",
      "           A       0.80      1.00      0.89        24\n",
      "          FT       1.00      0.60      0.75        15\n",
      "\n",
      "    accuracy                           0.85        39\n",
      "   macro avg       0.90      0.80      0.82        39\n",
      "weighted avg       0.88      0.85      0.84        39\n",
      "\n"
     ]
    }
   ],
   "source": [
    "filtered_df = df[df['_class_'].isin(['A', 'FT'])]\n",
    "X_train, X_test, y_train, y_test = train_test_split(filtered_df['RequirementText'], filtered_df['_class_'], test_size=0.2, random_state=42, stratify=filtered_df['_class_'])\n",
    "\n",
    "# 使用TfidfVectorizer进行转换\n",
    "ngram_range = (1,2)\n",
    "min_df = 0.01 # ignore terms that appear in less than 1% of the documents\n",
    "max_df = 0.8 # ignore terms that appear in more than 80% of the documents\n",
    "\n",
    "tfidf_vectorizer = TfidfVectorizer(encoding='utf-8',\n",
    "                        ngram_range=ngram_range,\n",
    "                        stop_words=None,\n",
    "                        lowercase=False,\n",
    "                        max_df=max_df,\n",
    "                        min_df=min_df,\n",
    "                        norm='l2',\n",
    "                        sublinear_tf=True)\n",
    "\n",
    "X_train_tfidf = tfidf_vectorizer.fit_transform(X_train)\n",
    "X_test_tfidf = tfidf_vectorizer.transform(X_test)\n",
    "\n",
    "model_tfidf = MultinomialNB()\n",
    "model_tfidf.fit(X_train_tfidf, y_train)\n",
    "\n",
    "y_pred_tfidf = model_tfidf.predict(X_test_tfidf)\n",
    "\n",
    "print(\"Accuracy (TF-IDF):\", accuracy_score(y_test, y_pred_tfidf))\n",
    "print(\"Classification Report (TF-IDF):\\n\", classification_report(y_test, y_pred_tfidf, zero_division=1))"
   ]
  },
  {
   "cell_type": "code",
   "execution_count": 13,
   "id": "fd4a9531-6dec-4abc-89bf-120b28175f14",
   "metadata": {},
   "outputs": [
    {
     "name": "stdout",
     "output_type": "stream",
     "text": [
      "Accuracy (TF-IDF): 0.8461538461538461\n",
      "Classification Report (TF-IDF):\n",
      "               precision    recall  f1-score   support\n",
      "\n",
      "           L       1.00      0.41      0.58        17\n",
      "          SE       0.83      1.00      0.91        48\n",
      "\n",
      "    accuracy                           0.85        65\n",
      "   macro avg       0.91      0.71      0.74        65\n",
      "weighted avg       0.87      0.85      0.82        65\n",
      "\n"
     ]
    }
   ],
   "source": [
    "filtered_df = df[df['_class_'].isin(['SE', 'L'])]\n",
    "X_train, X_test, y_train, y_test = train_test_split(filtered_df['RequirementText'], filtered_df['_class_'], test_size=0.2, random_state=42, stratify=filtered_df['_class_'])\n",
    "\n",
    "# 使用TfidfVectorizer进行转换\n",
    "ngram_range = (1,2)\n",
    "min_df = 0.01 # ignore terms that appear in less than 1% of the documents\n",
    "max_df = 0.8 # ignore terms that appear in more than 80% of the documents\n",
    "\n",
    "tfidf_vectorizer = TfidfVectorizer(encoding='utf-8',\n",
    "                        ngram_range=ngram_range,\n",
    "                        stop_words=None,\n",
    "                        lowercase=False,\n",
    "                        max_df=max_df,\n",
    "                        min_df=min_df,\n",
    "                        norm='l2',\n",
    "                        sublinear_tf=True)\n",
    "\n",
    "X_train_tfidf = tfidf_vectorizer.fit_transform(X_train)\n",
    "X_test_tfidf = tfidf_vectorizer.transform(X_test)\n",
    "\n",
    "model_tfidf = MultinomialNB()\n",
    "model_tfidf.fit(X_train_tfidf, y_train)\n",
    "\n",
    "y_pred_tfidf = model_tfidf.predict(X_test_tfidf)\n",
    "\n",
    "print(\"Accuracy (TF-IDF):\", accuracy_score(y_test, y_pred_tfidf))\n",
    "print(\"Classification Report (TF-IDF):\\n\", classification_report(y_test, y_pred_tfidf, zero_division=1))"
   ]
  },
  {
   "cell_type": "code",
   "execution_count": 14,
   "id": "6418dae6-38a9-498c-a7a9-adabcaa80933",
   "metadata": {},
   "outputs": [
    {
     "name": "stdout",
     "output_type": "stream",
     "text": [
      "Accuracy (TF-IDF): 0.9428571428571428\n",
      "Classification Report (TF-IDF):\n",
      "               precision    recall  f1-score   support\n",
      "\n",
      "           O       0.96      0.88      0.92        26\n",
      "          US       0.93      0.98      0.96        44\n",
      "\n",
      "    accuracy                           0.94        70\n",
      "   macro avg       0.95      0.93      0.94        70\n",
      "weighted avg       0.94      0.94      0.94        70\n",
      "\n"
     ]
    }
   ],
   "source": [
    "filtered_df = df[df['_class_'].isin(['O', 'US'])]\n",
    "X_train, X_test, y_train, y_test = train_test_split(filtered_df['RequirementText'], filtered_df['_class_'], test_size=0.2, random_state=42, stratify=filtered_df['_class_'])\n",
    "\n",
    "# 使用TfidfVectorizer进行转换\n",
    "ngram_range = (1,2)\n",
    "min_df = 0.01 # ignore terms that appear in less than 1% of the documents\n",
    "max_df = 0.8 # ignore terms that appear in more than 80% of the documents\n",
    "\n",
    "tfidf_vectorizer = TfidfVectorizer(encoding='utf-8',\n",
    "                        ngram_range=ngram_range,\n",
    "                        stop_words=None,\n",
    "                        lowercase=False,\n",
    "                        max_df=max_df,\n",
    "                        min_df=min_df,\n",
    "                        norm='l2',\n",
    "                        sublinear_tf=True)\n",
    "\n",
    "X_train_tfidf = tfidf_vectorizer.fit_transform(X_train)\n",
    "X_test_tfidf = tfidf_vectorizer.transform(X_test)\n",
    "\n",
    "model_tfidf = MultinomialNB()\n",
    "model_tfidf.fit(X_train_tfidf, y_train)\n",
    "\n",
    "y_pred_tfidf = model_tfidf.predict(X_test_tfidf)\n",
    "\n",
    "print(\"Accuracy (TF-IDF):\", accuracy_score(y_test, y_pred_tfidf))\n",
    "print(\"Classification Report (TF-IDF):\\n\", classification_report(y_test, y_pred_tfidf, zero_division=1))"
   ]
  },
  {
   "cell_type": "code",
   "execution_count": null,
   "id": "59a2e964-a49a-4b32-b3a5-75b626e4de52",
   "metadata": {},
   "outputs": [],
   "source": []
  },
  {
   "cell_type": "code",
   "execution_count": null,
   "id": "39924618-c88f-46cc-b2d6-c3794c3e2d8e",
   "metadata": {},
   "outputs": [],
   "source": []
  }
 ],
 "metadata": {
  "kernelspec": {
   "display_name": "Python 3 (ipykernel)",
   "language": "python",
   "name": "python3"
  },
  "language_info": {
   "codemirror_mode": {
    "name": "ipython",
    "version": 3
   },
   "file_extension": ".py",
   "mimetype": "text/x-python",
   "name": "python",
   "nbconvert_exporter": "python",
   "pygments_lexer": "ipython3",
   "version": "3.10.12"
  }
 },
 "nbformat": 4,
 "nbformat_minor": 5
}
