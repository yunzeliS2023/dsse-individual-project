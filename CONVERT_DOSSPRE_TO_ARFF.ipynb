{
 "cells": [
  {
   "cell_type": "code",
   "execution_count": 1,
   "id": "cae60015-7035-4441-b71e-14e1f4e08a33",
   "metadata": {},
   "outputs": [
    {
     "name": "stdout",
     "output_type": "stream",
     "text": [
      "      roject ID            Class  \\\n",
      "0             1       IntrusionD   \n",
      "1             1    Functionality   \n",
      "2             1    Functionality   \n",
      "3             1    Functionality   \n",
      "4             1    Functionality   \n",
      "...         ...              ...   \n",
      "1311        105    Functionality   \n",
      "1312        105    Functionality   \n",
      "1313        105      Performance   \n",
      "1314        105  Maintainability   \n",
      "1315        105    Functionality   \n",
      "\n",
      "                                            Requirement  \n",
      "0     'The system shall detect SQL Injection and XSS...  \n",
      "1     'The system shall analyze the detected vulnera...  \n",
      "2     'The system shall identify acceptable low fals...  \n",
      "3           'The system shall inspect SSL certificate '  \n",
      "4     'The system shall generate a report of the det...  \n",
      "...                                                 ...  \n",
      "1311  'The system�s classification process shall cla...  \n",
      "1312  'The system�s classification process shall gen...  \n",
      "1313  'The system�s classification process shall be ...  \n",
      "1314  'The system shall be maintainable as it is bui...  \n",
      "1315  'The system services shall be accessible offli...  \n",
      "\n",
      "[1316 rows x 3 columns]\n"
     ]
    }
   ],
   "source": [
    "import pandas as pd\n",
    "\n",
    "# Read data from CSV file\n",
    "df = pd.read_csv('DOSSPRE 1.0Original.csv')\n",
    "print(df)"
   ]
  },
  {
   "cell_type": "code",
   "execution_count": 2,
   "id": "d6dbb8ef-256b-4035-b619-fba9e1809e6f",
   "metadata": {},
   "outputs": [
    {
     "name": "stdout",
     "output_type": "stream",
     "text": [
      "['IntrusionD' 'Functionality' 'Usability' 'Performance' 'Confidentiality'\n",
      " 'Integrity' 'Maintainability' 'Availability' 'Portability' 'Auditing'\n",
      " 'Immunity' 'Authentication' 'Authorisation' 'Survivability'\n",
      " 'Identification' 'Detection' 'usability' 'confidentiality'\n",
      " 'Maintenability' 'Maintanability']\n"
     ]
    }
   ],
   "source": [
    "values = df['Class'].unique()\n",
    "print(values)"
   ]
  },
  {
   "cell_type": "code",
   "execution_count": 3,
   "id": "f253b1f7-11e6-4a65-8cd1-3cb31cab4d81",
   "metadata": {},
   "outputs": [
    {
     "name": "stdout",
     "output_type": "stream",
     "text": [
      "{'Identification', 'Authorisation', 'Auditing', 'Immunity', 'Detection', 'Authentication', 'Integrity', 'Survivability'}\n",
      "Index(['roject ID', 'Class', 'Requirement'], dtype='object')\n",
      "0       SE\n",
      "5       US\n",
      "6       US\n",
      "10      SE\n",
      "12      PE\n",
      "        ..\n",
      "1304    PO\n",
      "1306    SE\n",
      "1307    SE\n",
      "1313    PE\n",
      "1314    MN\n",
      "Name: Class, Length: 589, dtype: object\n"
     ]
    }
   ],
   "source": [
    "# Mapping classes to the desired format\n",
    "class_mapping = {\n",
    "    'Functionality': 'F',\n",
    "    'Availability': 'A',\n",
    "    'Maintainability': 'MN',\n",
    "    'Maintanability': 'MN',\n",
    "    'Maintenability': 'MN',\n",
    "    'IntrusionD': 'SE',\n",
    "    'Confidentiality': 'SE',\n",
    "    'confidentiality': 'SE',\n",
    "    'Performance': 'PE',\n",
    "    'Usability': 'US',\n",
    "    'usability': 'US',\n",
    "    'Portability': 'PO'\n",
    "}\n",
    "unmatched_values = set(df['Class'].unique()) - set(class_mapping.keys())\n",
    "print(unmatched_values)\n",
    "\n",
    "# Applying mappings\n",
    "df['Class'] = df['Class'].map(class_mapping).fillna('Unknown')\n",
    "\n",
    "# 在映射之后过滤掉'Unknown'和'F'\n",
    "df = df.loc[~df['Class'].isin(['Unknown', 'F'])]\n",
    "\n",
    "print(df.columns)\n",
    "print(df['Class'])"
   ]
  },
  {
   "cell_type": "code",
   "execution_count": 4,
   "id": "8a3db893-a0c0-4769-b122-fb458581f44c",
   "metadata": {},
   "outputs": [
    {
     "name": "stdout",
     "output_type": "stream",
     "text": [
      "ARFF file created successfully.\n"
     ]
    }
   ],
   "source": [
    "# Writing to ARFF format\n",
    "arff_content = \"\"\n",
    "\n",
    "for index, row in df.iterrows():\n",
    "    arff_content += f\"49,{row['Requirement']},{row['Class']}\\n\"\n",
    "\n",
    "# Writing to ARFF file\n",
    "with open('output2.arff', 'w') as file:\n",
    "    file.write(arff_content)\n",
    "\n",
    "print(\"ARFF file created successfully.\")\n"
   ]
  },
  {
   "cell_type": "code",
   "execution_count": null,
   "id": "6fa553b1-174a-45ec-800e-1d107ede10d3",
   "metadata": {},
   "outputs": [],
   "source": []
  }
 ],
 "metadata": {
  "kernelspec": {
   "display_name": "Python 3 (ipykernel)",
   "language": "python",
   "name": "python3"
  },
  "language_info": {
   "codemirror_mode": {
    "name": "ipython",
    "version": 3
   },
   "file_extension": ".py",
   "mimetype": "text/x-python",
   "name": "python",
   "nbconvert_exporter": "python",
   "pygments_lexer": "ipython3",
   "version": "3.10.12"
  }
 },
 "nbformat": 4,
 "nbformat_minor": 5
}
